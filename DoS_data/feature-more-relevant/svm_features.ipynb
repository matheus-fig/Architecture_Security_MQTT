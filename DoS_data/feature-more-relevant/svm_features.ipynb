{
  "metadata": {
    "kernelspec": {
      "language": "python",
      "display_name": "Python 3",
      "name": "python3"
    },
    "language_info": {
      "name": "python",
      "version": "3.10.14",
      "mimetype": "text/x-python",
      "codemirror_mode": {
        "name": "ipython",
        "version": 3
      },
      "pygments_lexer": "ipython3",
      "nbconvert_exporter": "python",
      "file_extension": ".py"
    },
    "kaggle": {
      "accelerator": "none",
      "dataSources": [
        {
          "sourceId": 9899212,
          "sourceType": "datasetVersion",
          "datasetId": 6080787
        }
      ],
      "dockerImageVersionId": 30786,
      "isInternetEnabled": true,
      "language": "python",
      "sourceType": "notebook",
      "isGpuEnabled": false
    },
    "colab": {
      "provenance": [],
      "include_colab_link": true
    }
  },
  "nbformat_minor": 0,
  "nbformat": 4,
  "cells": [
    {
      "cell_type": "markdown",
      "metadata": {
        "id": "view-in-github",
        "colab_type": "text"
      },
      "source": [
        "<a href=\"https://colab.research.google.com/github/matheusfigueiredoo/SUPER-IoT-Cybersecurity_MQTT/blob/main/svm_features.ipynb\" target=\"_parent\"><img src=\"https://colab.research.google.com/assets/colab-badge.svg\" alt=\"Open In Colab\"/></a>"
      ]
    },
    {
      "cell_type": "code",
      "source": [
        "import numpy as np\n",
        "import pandas as pd\n",
        "\n",
        "from google.colab import drive\n",
        "drive.mount('/content/drive')"
      ],
      "metadata": {
        "execution": {
          "iopub.status.busy": "2024-12-09T20:34:55.183615Z",
          "iopub.execute_input": "2024-12-09T20:34:55.184064Z",
          "iopub.status.idle": "2024-12-09T20:35:06.906253Z",
          "shell.execute_reply.started": "2024-12-09T20:34:55.184015Z",
          "shell.execute_reply": "2024-12-09T20:35:06.905079Z"
        },
        "trusted": true,
        "colab": {
          "base_uri": "https://localhost:8080/",
          "height": 0
        },
        "id": "af7syQ0rXAjv",
        "outputId": "5af84f37-2b9c-4336-ce2a-0a882303b161"
      },
      "outputs": [
        {
          "output_type": "stream",
          "name": "stdout",
          "text": [
            "Mounted at /content/drive\n"
          ]
        }
      ],
      "execution_count": 1
    },
    {
      "cell_type": "code",
      "source": [
        "train = pd.read_pickle(\"/content/drive/MyDrive/Colab Notebooks/train_processed.pkl\")\n",
        "test = pd.read_pickle(\"/content/drive/MyDrive/Colab Notebooks/test_processed.pkl\")\n",
        "\n",
        "print(train['target'].value_counts())\n",
        "print(\"\\n\")\n",
        "print(test['target'].value_counts())"
      ],
      "metadata": {
        "colab": {
          "base_uri": "https://localhost:8080/",
          "height": 0
        },
        "id": "8eiD2pdcl9_m",
        "outputId": "dd4e2f7e-5e17-45af-aac7-e3664b8ab49c"
      },
      "execution_count": 2,
      "outputs": [
        {
          "output_type": "stream",
          "name": "stdout",
          "text": [
            "target\n",
            "malicioso     2800000\n",
            "legitimate    2800000\n",
            "Name: count, dtype: int64\n",
            "\n",
            "\n",
            "target\n",
            "malicioso     1200000\n",
            "legitimate    1200000\n",
            "Name: count, dtype: int64\n"
          ]
        }
      ]
    },
    {
      "cell_type": "code",
      "source": [
        "columns = [\n",
        "    'tcp.flags', 'tcp.time_delta', 'tcp.len', 'mqtt.conack.flags',\n",
        "    'mqtt.conack.flags.reserved', 'mqtt.conack.flags.sp', 'mqtt.conack.val',\n",
        "    'mqtt.conflag.cleansess', 'mqtt.conflag.passwd', 'mqtt.conflag.qos',\n",
        "    'mqtt.conflag.reserved', 'mqtt.conflag.retain', 'mqtt.conflag.uname',\n",
        "    'mqtt.conflag.willflag', 'mqtt.conflags', 'mqtt.dupflag',\n",
        "    'mqtt.hdrflags', 'mqtt.kalive', 'mqtt.len', 'mqtt.msg', 'mqtt.msgid',\n",
        "    'mqtt.msgtype', 'mqtt.proto_len', 'mqtt.protoname', 'mqtt.qos',\n",
        "    'mqtt.retain', 'mqtt.sub.qos', 'mqtt.suback.qos', 'mqtt.ver',\n",
        "    'mqtt.willmsg', 'mqtt.willmsg_len', 'mqtt.willtopic',\n",
        "    'mqtt.willtopic_len', 'target'\n",
        "]\n",
        "\n",
        "single_value_columns = []\n",
        "\n",
        "for col in columns:\n",
        "    if train[col].nunique() == 1:\n",
        "        single_value_columns.append(col)\n",
        "\n",
        "print(\"Colunas com apenas um valor único:\")\n",
        "print(single_value_columns)\n",
        "\n",
        "train = train.drop(columns=single_value_columns)\n",
        "print(train.shape)\n",
        "print(\"\\n\")\n",
        "print(train.columns)"
      ],
      "metadata": {
        "execution": {
          "iopub.status.busy": "2024-12-09T20:35:06.908462Z",
          "iopub.execute_input": "2024-12-09T20:35:06.908856Z",
          "iopub.status.idle": "2024-12-09T20:35:11.260923Z",
          "shell.execute_reply.started": "2024-12-09T20:35:06.908821Z",
          "shell.execute_reply": "2024-12-09T20:35:11.259821Z"
        },
        "trusted": true,
        "colab": {
          "base_uri": "https://localhost:8080/",
          "height": 0
        },
        "id": "OakeDlwUXAjy",
        "outputId": "d1f39d76-d69d-4661-c727-3bf4f68daa07"
      },
      "outputs": [
        {
          "output_type": "stream",
          "name": "stdout",
          "text": [
            "Colunas com apenas um valor único:\n",
            "['mqtt.conack.flags.reserved', 'mqtt.conack.flags.sp', 'mqtt.conack.val', 'mqtt.conflag.passwd', 'mqtt.conflag.qos', 'mqtt.conflag.reserved', 'mqtt.conflag.retain', 'mqtt.conflag.uname', 'mqtt.conflag.willflag', 'mqtt.retain', 'mqtt.sub.qos', 'mqtt.suback.qos', 'mqtt.willmsg', 'mqtt.willmsg_len', 'mqtt.willtopic', 'mqtt.willtopic_len']\n",
            "(5600000, 18)\n",
            "\n",
            "\n",
            "Index(['tcp.flags', 'tcp.time_delta', 'tcp.len', 'mqtt.conack.flags',\n",
            "       'mqtt.conflag.cleansess', 'mqtt.conflags', 'mqtt.dupflag',\n",
            "       'mqtt.hdrflags', 'mqtt.kalive', 'mqtt.len', 'mqtt.msg', 'mqtt.msgid',\n",
            "       'mqtt.msgtype', 'mqtt.proto_len', 'mqtt.protoname', 'mqtt.qos',\n",
            "       'mqtt.ver', 'target'],\n",
            "      dtype='object')\n"
          ]
        }
      ],
      "execution_count": 3
    },
    {
      "cell_type": "code",
      "source": [
        "columns = [\n",
        "    'tcp.flags', 'tcp.time_delta', 'tcp.len', 'mqtt.conack.flags',\n",
        "    'mqtt.conack.flags.reserved', 'mqtt.conack.flags.sp', 'mqtt.conack.val',\n",
        "    'mqtt.conflag.cleansess', 'mqtt.conflag.passwd', 'mqtt.conflag.qos',\n",
        "    'mqtt.conflag.reserved', 'mqtt.conflag.retain', 'mqtt.conflag.uname',\n",
        "    'mqtt.conflag.willflag', 'mqtt.conflags', 'mqtt.dupflag',\n",
        "    'mqtt.hdrflags', 'mqtt.kalive', 'mqtt.len', 'mqtt.msg', 'mqtt.msgid',\n",
        "    'mqtt.msgtype', 'mqtt.proto_len', 'mqtt.protoname', 'mqtt.qos',\n",
        "    'mqtt.retain', 'mqtt.sub.qos', 'mqtt.suback.qos', 'mqtt.ver',\n",
        "    'mqtt.willmsg', 'mqtt.willmsg_len', 'mqtt.willtopic',\n",
        "    'mqtt.willtopic_len', 'target'\n",
        "]\n",
        "\n",
        "single_value_columns = []\n",
        "\n",
        "for col in columns:\n",
        "    if test[col].nunique() == 1:\n",
        "        single_value_columns.append(col)\n",
        "\n",
        "print(\"Colunas com apenas um valor único:\")\n",
        "print(single_value_columns)\n",
        "\n",
        "test = test.drop(columns=single_value_columns)\n",
        "print(test.shape)\n",
        "print(\"\\n\")\n",
        "print(test.columns)"
      ],
      "metadata": {
        "execution": {
          "iopub.status.busy": "2024-12-09T20:35:11.262162Z",
          "iopub.execute_input": "2024-12-09T20:35:11.262476Z",
          "iopub.status.idle": "2024-12-09T20:35:13.096837Z",
          "shell.execute_reply.started": "2024-12-09T20:35:11.262445Z",
          "shell.execute_reply": "2024-12-09T20:35:13.095600Z"
        },
        "trusted": true,
        "colab": {
          "base_uri": "https://localhost:8080/",
          "height": 0
        },
        "id": "JDrUFyGoXAjy",
        "outputId": "60a0aed7-885d-417a-b37d-727a799d3457"
      },
      "outputs": [
        {
          "output_type": "stream",
          "name": "stdout",
          "text": [
            "Colunas com apenas um valor único:\n",
            "['mqtt.conack.flags.reserved', 'mqtt.conack.flags.sp', 'mqtt.conack.val', 'mqtt.conflag.passwd', 'mqtt.conflag.qos', 'mqtt.conflag.reserved', 'mqtt.conflag.retain', 'mqtt.conflag.uname', 'mqtt.conflag.willflag', 'mqtt.retain', 'mqtt.sub.qos', 'mqtt.suback.qos', 'mqtt.willmsg', 'mqtt.willmsg_len', 'mqtt.willtopic', 'mqtt.willtopic_len']\n",
            "(2400000, 18)\n",
            "\n",
            "\n",
            "Index(['tcp.flags', 'tcp.time_delta', 'tcp.len', 'mqtt.conack.flags',\n",
            "       'mqtt.conflag.cleansess', 'mqtt.conflags', 'mqtt.dupflag',\n",
            "       'mqtt.hdrflags', 'mqtt.kalive', 'mqtt.len', 'mqtt.msg', 'mqtt.msgid',\n",
            "       'mqtt.msgtype', 'mqtt.proto_len', 'mqtt.protoname', 'mqtt.qos',\n",
            "       'mqtt.ver', 'target'],\n",
            "      dtype='object')\n"
          ]
        }
      ],
      "execution_count": 4
    },
    {
      "cell_type": "code",
      "source": [
        "normal_train = []\n",
        "attack_train = []\n",
        "normal_test = []\n",
        "attack_test = []\n",
        "\n",
        "for i in train.index:\n",
        "    if train['target'][i] == 'legitimate':\n",
        "        normal_train.append(i)\n",
        "    else:\n",
        "        attack_train.append(i)\n",
        "\n",
        "for i in test.index:\n",
        "    if test['target'][i] == 'legitimate':\n",
        "        normal_test.append(i)\n",
        "    else:\n",
        "        attack_test.append(i)\n",
        "\n",
        "normal_train = normal_train[:2780000]\n",
        "attack_train = attack_train[:2780000]\n",
        "normal_test = normal_test[:1190000]\n",
        "attack_test = attack_test[:1190000]\n",
        "\n",
        "train = train.drop(normal_train)\n",
        "train = train.drop(attack_train)\n",
        "test = test.drop(normal_test)\n",
        "test = test.drop(attack_test)\n",
        "\n",
        "print(train['target'].value_counts())\n",
        "print(\"\\n\")\n",
        "print(test['target'].value_counts())"
      ],
      "metadata": {
        "colab": {
          "base_uri": "https://localhost:8080/",
          "height": 0
        },
        "id": "V2A_3yXBNUSl",
        "outputId": "117fbe8b-0182-4a4a-91bc-87f44555efe9"
      },
      "execution_count": 5,
      "outputs": [
        {
          "output_type": "stream",
          "name": "stdout",
          "text": [
            "target\n",
            "malicioso     20000\n",
            "legitimate    20000\n",
            "Name: count, dtype: int64\n",
            "\n",
            "\n",
            "target\n",
            "malicioso     10000\n",
            "legitimate    10000\n",
            "Name: count, dtype: int64\n"
          ]
        }
      ]
    },
    {
      "cell_type": "code",
      "source": [
        "# rotulação\n",
        "\n",
        "for i in train.index:\n",
        "    if train['target'][i] == 'legitimate':\n",
        "        train.at[i, 'target'] = '0'\n",
        "    else:\n",
        "        train.at[i, 'target'] = '1'\n",
        "\n",
        "for i in test.index:\n",
        "    if test['target'][i] == 'legitimate':\n",
        "        test.at[i, 'target'] = '0'\n",
        "    else:\n",
        "        test.at[i, 'target'] = '1'\n",
        "\n",
        "print(train['target'].unique())\n",
        "print(test['target'].unique())"
      ],
      "metadata": {
        "colab": {
          "base_uri": "https://localhost:8080/",
          "height": 0
        },
        "id": "BjydrhyJgP8m",
        "outputId": "ab194ed8-1dcb-4b9c-fc95-a70120f7ca51"
      },
      "execution_count": 6,
      "outputs": [
        {
          "output_type": "stream",
          "name": "stdout",
          "text": [
            "['1' '0']\n",
            "['1' '0']\n"
          ]
        }
      ]
    },
    {
      "cell_type": "code",
      "source": [
        "from sklearn.preprocessing import LabelEncoder\n",
        "\n",
        "label = LabelEncoder()\n",
        "\n",
        "\n",
        "categorical_columns = [col for col in train.columns if train[col].dtype == 'object']\n",
        "categorical_columns = [col for col in test.columns if test[col].dtype == 'object']\n",
        "\n",
        "\n",
        "for col in categorical_columns:\n",
        "    train[col] = label.fit_transform(train[col].astype(str))\n",
        "    test[col] = label.fit_transform(test[col].astype(str))\n",
        "\n",
        "print(\"executado\")"
      ],
      "metadata": {
        "execution": {
          "iopub.status.busy": "2024-12-09T20:35:13.099846Z",
          "iopub.execute_input": "2024-12-09T20:35:13.100306Z",
          "iopub.status.idle": "2024-12-09T20:35:29.375817Z",
          "shell.execute_reply.started": "2024-12-09T20:35:13.100242Z",
          "shell.execute_reply": "2024-12-09T20:35:29.372370Z"
        },
        "trusted": true,
        "colab": {
          "base_uri": "https://localhost:8080/",
          "height": 0
        },
        "id": "8SK94oWYXAjz",
        "outputId": "b326a85e-5cbf-4f39-b49d-193ab4d3d444"
      },
      "outputs": [
        {
          "output_type": "stream",
          "name": "stdout",
          "text": [
            "executado\n"
          ]
        }
      ],
      "execution_count": 7
    },
    {
      "cell_type": "code",
      "source": [
        "X_train = train.iloc[:,:-1]\n",
        "y_train = train['target']\n",
        "X_test = test.iloc[:,:-1]\n",
        "y_test = test['target']\n",
        "\n",
        "# print(type(X_train))\n",
        "# print(type(X_test))\n",
        "# print(type(y_train))\n",
        "# print(type(y_test))\n",
        "\n",
        "# X_train = X_train.values\n",
        "# X_test = X_test.values\n",
        "# y_train = y_train.values\n",
        "# y_test = y_test.values\n",
        "\n",
        "# print(type(X_train))\n",
        "# print(type(X_test))\n",
        "# print(type(y_train))\n",
        "# print(type(y_test))"
      ],
      "metadata": {
        "execution": {
          "iopub.status.busy": "2024-12-09T20:35:29.379329Z",
          "iopub.execute_input": "2024-12-09T20:35:29.381429Z",
          "iopub.status.idle": "2024-12-09T20:35:30.916296Z",
          "shell.execute_reply.started": "2024-12-09T20:35:29.381380Z",
          "shell.execute_reply": "2024-12-09T20:35:30.914606Z"
        },
        "trusted": true,
        "id": "IieiFTfLXAjz"
      },
      "outputs": [],
      "execution_count": 8
    },
    {
      "cell_type": "code",
      "source": [
        "from sklearn.preprocessing import StandardScaler\n",
        "\n",
        "scaler = StandardScaler()\n",
        "X_train = scaler.fit_transform(X_train)\n",
        "X_test = scaler.transform(X_test)\n",
        "\n",
        "print(\"executado\")"
      ],
      "metadata": {
        "trusted": true,
        "execution": {
          "iopub.status.busy": "2024-12-09T20:35:30.921119Z",
          "iopub.execute_input": "2024-12-09T20:35:30.923282Z",
          "iopub.status.idle": "2024-12-09T20:35:32.592149Z",
          "shell.execute_reply.started": "2024-12-09T20:35:30.923030Z",
          "shell.execute_reply": "2024-12-09T20:35:32.590799Z"
        },
        "colab": {
          "base_uri": "https://localhost:8080/",
          "height": 0
        },
        "id": "ucokouKgXAj0",
        "outputId": "78d9cd42-f00a-40e1-aa3d-91863ae7e725"
      },
      "outputs": [
        {
          "output_type": "stream",
          "name": "stdout",
          "text": [
            "executado\n"
          ]
        }
      ],
      "execution_count": 9
    },
    {
      "cell_type": "code",
      "source": [
        "# bibliotecas dos modelos\n",
        "\n",
        "from sklearn.svm import SVC\n",
        "from sklearn.metrics import classification_report, confusion_matrix\n",
        "from sklearn.metrics import classification_report, accuracy_score\n",
        "from sklearn.model_selection import cross_val_score\n",
        "from sklearn.metrics import ConfusionMatrixDisplay\n",
        "\n",
        "print(\"executado\")"
      ],
      "metadata": {
        "trusted": true,
        "execution": {
          "iopub.status.busy": "2024-12-09T20:35:32.593622Z",
          "iopub.execute_input": "2024-12-09T20:35:32.594054Z",
          "iopub.status.idle": "2024-12-09T20:35:32.952345Z",
          "shell.execute_reply.started": "2024-12-09T20:35:32.594019Z",
          "shell.execute_reply": "2024-12-09T20:35:32.951107Z"
        },
        "colab": {
          "base_uri": "https://localhost:8080/",
          "height": 0
        },
        "id": "21aWy0mUXAj0",
        "outputId": "f0d23846-34f9-4ab1-ca24-c264ca65205a"
      },
      "outputs": [
        {
          "output_type": "stream",
          "name": "stdout",
          "text": [
            "executado\n"
          ]
        }
      ],
      "execution_count": 10
    },
    {
      "cell_type": "code",
      "source": [
        "# SVM\n",
        "\n",
        "svm_model = SVC(random_state=42)\n",
        "svm_model.fit(X_train, y_train)\n",
        "\n",
        "\n",
        "y_pred = svm_model.predict(X_test)\n",
        "\n",
        "print(\"Accuracy train: \", svm_model.score(X_train, y_train))\n",
        "print(\"Accuracy test:\", svm_model.score(X_test, y_test))\n",
        "\n",
        "# -------------------------------------------------------------------------------------------------------\n",
        "\n",
        "print(\"\\nClassification Report:\\n\", classification_report(y_test, y_pred)) # table classification report\n",
        "print(\"\\n\")\n",
        "\n",
        "# -------------------------------------------------------------------------------------------------------\n",
        "\n",
        "ConfusionMatrixDisplay.from_estimator(svm_model, X_test, y_test, cmap=\"Blues\") # confusion matrix"
      ],
      "metadata": {
        "trusted": true,
        "execution": {
          "iopub.status.busy": "2024-12-09T20:35:32.953916Z",
          "iopub.execute_input": "2024-12-09T20:35:32.954274Z"
        },
        "id": "7CjHEzQoXAj0",
        "colab": {
          "base_uri": "https://localhost:8080/",
          "height": 727
        },
        "outputId": "b8113540-0ab8-4142-d8b3-b207eb880e6d"
      },
      "outputs": [
        {
          "output_type": "stream",
          "name": "stdout",
          "text": [
            "Accuracy train:  0.813075\n",
            "Accuracy test: 0.80995\n",
            "\n",
            "Classification Report:\n",
            "               precision    recall  f1-score   support\n",
            "\n",
            "           0       0.99      0.62      0.77     10000\n",
            "           1       0.73      1.00      0.84     10000\n",
            "\n",
            "    accuracy                           0.81     20000\n",
            "   macro avg       0.86      0.81      0.80     20000\n",
            "weighted avg       0.86      0.81      0.80     20000\n",
            "\n",
            "\n",
            "\n"
          ]
        },
        {
          "output_type": "execute_result",
          "data": {
            "text/plain": [
              "<sklearn.metrics._plot.confusion_matrix.ConfusionMatrixDisplay at 0x7fc76156b010>"
            ]
          },
          "metadata": {},
          "execution_count": 11
        },
        {
          "output_type": "display_data",
          "data": {
            "text/plain": [
              "<Figure size 640x480 with 2 Axes>"
            ],
            "image/png": "[encoded data removed]"
          },
          "metadata": {}
        }
      ],
      "execution_count": 11
    },
    {
      "cell_type": "code",
      "source": [
        "from sklearn.feature_selection import SelectKBest, f_classif\n",
        "\n",
        "selector = SelectKBest(score_func=f_classif, k=10)\n",
        "X_train_10 = selector.fit_transform(X_train, y_train)\n",
        "\n",
        "selected_features = train.iloc[:,:-1].columns[selector.get_support()]\n",
        "print(\"Features selecionadas:\", selected_features)"
      ],
      "metadata": {
        "trusted": true,
        "id": "Pld-bdLeXAj1",
        "colab": {
          "base_uri": "https://localhost:8080/",
          "height": 0
        },
        "outputId": "d3b063bd-fc85-4d11-eb10-3cdcb8d93413"
      },
      "outputs": [
        {
          "output_type": "stream",
          "name": "stdout",
          "text": [
            "Features selecionadas: Index(['tcp.flags', 'tcp.time_delta', 'tcp.len', 'mqtt.conack.flags',\n",
            "       'mqtt.dupflag', 'mqtt.hdrflags', 'mqtt.len', 'mqtt.msg', 'mqtt.msgid',\n",
            "       'mqtt.qos'],\n",
            "      dtype='object')\n"
          ]
        }
      ],
      "execution_count": 12
    },
    {
      "cell_type": "markdown",
      "source": [
        "Testando com as 10 features mais importantes"
      ],
      "metadata": {
        "id": "XbyN-XpWIVhp"
      }
    },
    {
      "cell_type": "code",
      "source": [
        "# ajustando o conjunto de teste\n",
        "columns_10 = ['tcp.flags', 'tcp.time_delta', 'tcp.len', 'mqtt.conack.flags',\n",
        "       'mqtt.dupflag', 'mqtt.hdrflags', 'mqtt.len', 'mqtt.msg', 'mqtt.msgid',\n",
        "       'mqtt.qos']\n",
        "\n",
        "X_test_10 = test[columns_10]\n",
        "print(X_train_10.shape)\n",
        "print(X_test_10.shape)"
      ],
      "metadata": {
        "colab": {
          "base_uri": "https://localhost:8080/",
          "height": 0
        },
        "id": "dKVIAY3DjMKF",
        "outputId": "371732af-aebb-4ec7-ad9f-66e6262cb82a"
      },
      "execution_count": 14,
      "outputs": [
        {
          "output_type": "stream",
          "name": "stdout",
          "text": [
            "(40000, 10)\n",
            "(20000, 10)\n"
          ]
        }
      ]
    },
    {
      "cell_type": "code",
      "source": [
        "svm_model.fit(X_train_10, y_train)\n",
        "\n",
        "y_pred_10 = svm_model.predict(X_test_10)\n",
        "\n",
        "print(\"Accuracy train: \", svm_model.score(X_train_10, y_train))\n",
        "print(\"Accuracy test:\", svm_model.score(X_test_10, y_test))\n",
        "\n",
        "# -------------------------------------------------------------------------------------------------------\n",
        "\n",
        "print(\"\\nClassification Report:\\n\", classification_report(y_test, y_pred_10)) # table classification report\n",
        "print(\"\\n\")\n",
        "\n",
        "# -------------------------------------------------------------------------------------------------------\n",
        "\n",
        "ConfusionMatrixDisplay.from_estimator(svm_model, X_test_10, y_test, cmap=\"Blues\") # confusion matrix"
      ],
      "metadata": {
        "colab": {
          "base_uri": "https://localhost:8080/",
          "height": 837
        },
        "id": "SE3NELhFInhE",
        "outputId": "bd4720f5-64a6-4e53-c31b-cf06e80f7036"
      },
      "execution_count": 15,
      "outputs": [
        {
          "output_type": "stream",
          "name": "stderr",
          "text": [
            "/usr/local/lib/python3.10/dist-packages/sklearn/base.py:486: UserWarning: X has feature names, but SVC was fitted without feature names\n",
            "  warnings.warn(\n"
          ]
        },
        {
          "output_type": "stream",
          "name": "stdout",
          "text": [
            "Accuracy train:  0.812675\n"
          ]
        },
        {
          "output_type": "stream",
          "name": "stderr",
          "text": [
            "/usr/local/lib/python3.10/dist-packages/sklearn/base.py:486: UserWarning: X has feature names, but SVC was fitted without feature names\n",
            "  warnings.warn(\n"
          ]
        },
        {
          "output_type": "stream",
          "name": "stdout",
          "text": [
            "Accuracy test: 0.5022\n",
            "\n",
            "Classification Report:\n",
            "               precision    recall  f1-score   support\n",
            "\n",
            "           0       1.00      0.00      0.01     10000\n",
            "           1       0.50      1.00      0.67     10000\n",
            "\n",
            "    accuracy                           0.50     20000\n",
            "   macro avg       0.75      0.50      0.34     20000\n",
            "weighted avg       0.75      0.50      0.34     20000\n",
            "\n",
            "\n",
            "\n"
          ]
        },
        {
          "output_type": "stream",
          "name": "stderr",
          "text": [
            "/usr/local/lib/python3.10/dist-packages/sklearn/base.py:486: UserWarning: X has feature names, but SVC was fitted without feature names\n",
            "  warnings.warn(\n"
          ]
        },
        {
          "output_type": "execute_result",
          "data": {
            "text/plain": [
              "<sklearn.metrics._plot.confusion_matrix.ConfusionMatrixDisplay at 0x7fc761569c60>"
            ]
          },
          "metadata": {},
          "execution_count": 15
        },
        {
          "output_type": "display_data",
          "data": {
            "text/plain": [
              "<Figure size 640x480 with 2 Axes>"
            ],
            "image/png": "[encoded data removed]"
          },
          "metadata": {}
        }
      ]
    },
    {
      "cell_type": "markdown",
      "source": [
        "Testando com 5 features mais importantes"
      ],
      "metadata": {
        "id": "0HvhuCPuQBzI"
      }
    },
    {
      "cell_type": "code",
      "source": [
        "# reduzindo para 5\n",
        "\n",
        "selector = SelectKBest(score_func=f_classif, k=5)\n",
        "X_train_5 = selector.fit_transform(X_train_10, y_train)\n",
        "\n",
        "c = ['tcp.flags', 'tcp.time_delta', 'tcp.len', 'mqtt.conack.flags',\n",
        "       'mqtt.dupflag', 'mqtt.hdrflags', 'mqtt.len', 'mqtt.msg', 'mqtt.msgid',\n",
        "       'mqtt.qos']\n",
        "\n",
        "selected_features = train[c].columns[selector.get_support()]\n",
        "print(\"Features selecionadas:\", selected_features)"
      ],
      "metadata": {
        "colab": {
          "base_uri": "https://localhost:8080/",
          "height": 0
        },
        "id": "OOIQ9YMDj6pp",
        "outputId": "5fde871f-0d02-482e-8ed6-1f4bf53760d7"
      },
      "execution_count": 17,
      "outputs": [
        {
          "output_type": "stream",
          "name": "stdout",
          "text": [
            "Features selecionadas: Index(['tcp.len', 'mqtt.len', 'mqtt.msg', 'mqtt.msgid', 'mqtt.qos'], dtype='object')\n"
          ]
        }
      ]
    },
    {
      "cell_type": "code",
      "source": [
        "columns_5 = ['tcp.len', 'mqtt.len', 'mqtt.msg', 'mqtt.msgid', 'mqtt.qos']\n",
        "\n",
        "X_test_5 = test[columns_5]\n",
        "\n",
        "print(X_train_5.shape)\n",
        "print(X_test_5.shape)"
      ],
      "metadata": {
        "colab": {
          "base_uri": "https://localhost:8080/",
          "height": 0
        },
        "id": "q2-LYUxCRXax",
        "outputId": "de0cfe60-d6ac-4c00-e860-45f1717a5620"
      },
      "execution_count": 18,
      "outputs": [
        {
          "output_type": "stream",
          "name": "stdout",
          "text": [
            "(40000, 5)\n",
            "(20000, 5)\n"
          ]
        }
      ]
    },
    {
      "cell_type": "code",
      "source": [
        "# teste com 5 features\n",
        "svm_model.fit(X_train_5, y_train)\n",
        "\n",
        "y_pred_5 = svm_model.predict(X_test_5)\n",
        "\n",
        "print(\"Accuracy train: \", svm_model.score(X_train_5, y_train))\n",
        "print(\"Accuracy test:\", svm_model.score(X_test_5, y_test))\n",
        "\n",
        "# -------------------------------------------------------------------------------------------------------\n",
        "\n",
        "print(\"\\nClassification Report:\\n\", classification_report(y_test, y_pred_5)) # table classification report\n",
        "print(\"\\n\")\n",
        "\n",
        "# -------------------------------------------------------------------------------------------------------\n",
        "\n",
        "ConfusionMatrixDisplay.from_estimator(svm_model, X_test_5, y_test, cmap=\"Blues\") # confusion matrix"
      ],
      "metadata": {
        "colab": {
          "base_uri": "https://localhost:8080/",
          "height": 961
        },
        "id": "i3jdLvjVk-9R",
        "outputId": "af5eedad-204b-45cf-bce8-81a75628b40e"
      },
      "execution_count": 19,
      "outputs": [
        {
          "output_type": "stream",
          "name": "stderr",
          "text": [
            "/usr/local/lib/python3.10/dist-packages/sklearn/base.py:486: UserWarning: X has feature names, but SVC was fitted without feature names\n",
            "  warnings.warn(\n"
          ]
        },
        {
          "output_type": "stream",
          "name": "stdout",
          "text": [
            "Accuracy train:  0.8042\n"
          ]
        },
        {
          "output_type": "stream",
          "name": "stderr",
          "text": [
            "/usr/local/lib/python3.10/dist-packages/sklearn/base.py:486: UserWarning: X has feature names, but SVC was fitted without feature names\n",
            "  warnings.warn(\n"
          ]
        },
        {
          "output_type": "stream",
          "name": "stdout",
          "text": [
            "Accuracy test: 0.5\n",
            "\n",
            "Classification Report:\n",
            "               precision    recall  f1-score   support\n",
            "\n",
            "           0       0.00      0.00      0.00     10000\n",
            "           1       0.50      1.00      0.67     10000\n",
            "\n",
            "    accuracy                           0.50     20000\n",
            "   macro avg       0.25      0.50      0.33     20000\n",
            "weighted avg       0.25      0.50      0.33     20000\n",
            "\n",
            "\n",
            "\n"
          ]
        },
        {
          "output_type": "stream",
          "name": "stderr",
          "text": [
            "/usr/local/lib/python3.10/dist-packages/sklearn/metrics/_classification.py:1531: UndefinedMetricWarning: Precision is ill-defined and being set to 0.0 in labels with no predicted samples. Use `zero_division` parameter to control this behavior.\n",
            "  _warn_prf(average, modifier, f\"{metric.capitalize()} is\", len(result))\n",
            "/usr/local/lib/python3.10/dist-packages/sklearn/metrics/_classification.py:1531: UndefinedMetricWarning: Precision is ill-defined and being set to 0.0 in labels with no predicted samples. Use `zero_division` parameter to control this behavior.\n",
            "  _warn_prf(average, modifier, f\"{metric.capitalize()} is\", len(result))\n",
            "/usr/local/lib/python3.10/dist-packages/sklearn/metrics/_classification.py:1531: UndefinedMetricWarning: Precision is ill-defined and being set to 0.0 in labels with no predicted samples. Use `zero_division` parameter to control this behavior.\n",
            "  _warn_prf(average, modifier, f\"{metric.capitalize()} is\", len(result))\n",
            "/usr/local/lib/python3.10/dist-packages/sklearn/base.py:486: UserWarning: X has feature names, but SVC was fitted without feature names\n",
            "  warnings.warn(\n"
          ]
        },
        {
          "output_type": "execute_result",
          "data": {
            "text/plain": [
              "<sklearn.metrics._plot.confusion_matrix.ConfusionMatrixDisplay at 0x7fc76152ffd0>"
            ]
          },
          "metadata": {},
          "execution_count": 19
        },
        {
          "output_type": "display_data",
          "data": {
            "text/plain": [
              "<Figure size 640x480 with 2 Axes>"
            ],
            "image/png": "[encoded data removed]"
          },
          "metadata": {}
        }
      ]
    }
  ]
}