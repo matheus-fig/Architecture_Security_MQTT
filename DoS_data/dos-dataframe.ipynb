{
 "cells": [
  {
   "cell_type": "raw",
   "metadata": {
    "_cell_guid": "b1076dfc-b9ad-4769-8c92-a6c4dae69d19",
    "_uuid": "8f2839f25d086af736a60e9eeb907d3b93b6e0e5"
   },
   "source": [
    "# Projeto SUPER - 2024\n",
    "# Task de IoT e Comunicação sem Fio"
   ]
  },
  {
   "cell_type": "code",
   "execution_count": 1,
   "metadata": {
    "execution": {
     "iopub.execute_input": "2024-11-04T19:01:06.619673Z",
     "iopub.status.busy": "2024-11-04T19:01:06.619135Z",
     "iopub.status.idle": "2024-11-04T19:01:08.331046Z",
     "shell.execute_reply": "2024-11-04T19:01:08.329655Z",
     "shell.execute_reply.started": "2024-11-04T19:01:06.619611Z"
    },
    "trusted": true
   },
   "outputs": [],
   "source": [
    "import numpy as np\n",
    "import pandas as pd"
   ]
  },
  {
   "cell_type": "code",
   "execution_count": 2,
   "metadata": {
    "execution": {
     "iopub.execute_input": "2024-11-04T19:01:08.334825Z",
     "iopub.status.busy": "2024-11-04T19:01:08.334093Z",
     "iopub.status.idle": "2024-11-04T19:03:39.103043Z",
     "shell.execute_reply": "2024-11-04T19:03:39.101242Z",
     "shell.execute_reply.started": "2024-11-04T19:01:08.334765Z"
    },
    "trusted": true
   },
   "outputs": [],
   "source": [
    "train = pd.read_csv(\"/kaggle/input/mqttset/train70_augmented.csv\")\n",
    "test = pd.read_csv(\"/kaggle/input/mqttset/test30_augmented.csv\")"
   ]
  },
  {
   "cell_type": "code",
   "execution_count": 3,
   "metadata": {
    "execution": {
     "iopub.execute_input": "2024-11-04T19:03:39.106666Z",
     "iopub.status.busy": "2024-11-04T19:03:39.106180Z",
     "iopub.status.idle": "2024-11-04T19:03:42.846893Z",
     "shell.execute_reply": "2024-11-04T19:03:42.845393Z",
     "shell.execute_reply.started": "2024-11-04T19:03:39.106615Z"
    },
    "trusted": true
   },
   "outputs": [
    {
     "name": "stdout",
     "output_type": "stream",
     "text": [
      "Train shape:  (14000000, 34)\n",
      "Test shape:  (6000000, 34) \n",
      "\n",
      "Train target:\n",
      " target\n",
      "legitimate    7000000\n",
      "bruteforce    1400000\n",
      "flood         1400000\n",
      "slowite       1400000\n",
      "dos           1400000\n",
      "malformed     1400000\n",
      "Name: count, dtype: int64\n",
      "Test target:\n",
      " target\n",
      "legitimate    3000000\n",
      "dos            600000\n",
      "slowite        600000\n",
      "flood          600000\n",
      "bruteforce     600000\n",
      "malformed      600000\n",
      "Name: count, dtype: int64\n"
     ]
    }
   ],
   "source": [
    "# tamanho dos df\n",
    "print(\"Train shape: \", train.shape)\n",
    "print(\"Test shape: \", test.shape, \"\\n\")\n",
    "\n",
    "print(\"Train target:\\n\", train['target'].value_counts())\n",
    "print(\"Test target:\\n\",test['target'].value_counts())"
   ]
  },
  {
   "cell_type": "code",
   "execution_count": null,
   "metadata": {
    "execution": {
     "iopub.execute_input": "2024-11-04T19:03:42.851198Z",
     "iopub.status.busy": "2024-11-04T19:03:42.850461Z",
     "iopub.status.idle": "2024-11-04T19:03:42.864216Z",
     "shell.execute_reply": "2024-11-04T19:03:42.862411Z",
     "shell.execute_reply.started": "2024-11-04T19:03:42.851141Z"
    },
    "trusted": true
   },
   "outputs": [
    {
     "name": "stdout",
     "output_type": "stream",
     "text": [
      "Index(['tcp.flags', 'tcp.time_delta', 'tcp.len', 'mqtt.conack.flags',\n",
      "       'mqtt.conack.flags.reserved', 'mqtt.conack.flags.sp', 'mqtt.conack.val',\n",
      "       'mqtt.conflag.cleansess', 'mqtt.conflag.passwd', 'mqtt.conflag.qos',\n",
      "       'mqtt.conflag.reserved', 'mqtt.conflag.retain', 'mqtt.conflag.uname',\n",
      "       'mqtt.conflag.willflag', 'mqtt.conflags', 'mqtt.dupflag',\n",
      "       'mqtt.hdrflags', 'mqtt.kalive', 'mqtt.len', 'mqtt.msg', 'mqtt.msgid',\n",
      "       'mqtt.msgtype', 'mqtt.proto_len', 'mqtt.protoname', 'mqtt.qos',\n",
      "       'mqtt.retain', 'mqtt.sub.qos', 'mqtt.suback.qos', 'mqtt.ver',\n",
      "       'mqtt.willmsg', 'mqtt.willmsg_len', 'mqtt.willtopic',\n",
      "       'mqtt.willtopic_len', 'target'],\n",
      "      dtype='object')\n"
     ]
    }
   ],
   "source": [
    "# features do dataset a serem analisadas\n",
    "print(train.keys())"
   ]
  },
  {
   "cell_type": "code",
   "execution_count": null,
   "metadata": {
    "execution": {
     "iopub.execute_input": "2024-11-04T19:03:42.866510Z",
     "iopub.status.busy": "2024-11-04T19:03:42.866016Z",
     "iopub.status.idle": "2024-11-04T19:15:22.006276Z",
     "shell.execute_reply": "2024-11-04T19:15:22.003241Z",
     "shell.execute_reply.started": "2024-11-04T19:03:42.866458Z"
    },
    "trusted": true
   },
   "outputs": [
    {
     "name": "stdout",
     "output_type": "stream",
     "text": [
      "Train: \n",
      "target\n",
      "legitimate    7000000\n",
      "flood         1400000\n",
      "dos           1400000\n",
      "Name: count, dtype: int64\n",
      "\n",
      "\n",
      "Test: \n",
      "target\n",
      "legitimate    3000000\n",
      "dos            600000\n",
      "flood          600000\n",
      "Name: count, dtype: int64\n"
     ]
    }
   ],
   "source": [
    "# divisão entre tráfego legítimo e ataques de negação de serviço\n",
    "# como o dataset contém tráfegos com vários tipos de ataque, serão excluídos os ataques que não são dos\n",
    "\n",
    "# ----------------------------------------------------------------\n",
    "\n",
    "# conj de treinamento\n",
    "\n",
    "# vetores que armazenam as linhas cujos trafegos nao sao negacao de servico\n",
    "bruteforce = []\n",
    "malformed = []\n",
    "slowite = []\n",
    "\n",
    "for i in train.index:\n",
    "\n",
    "    if train['target'][i] == 'bruteforce':\n",
    "        bruteforce.append(i)\n",
    "        \n",
    "    if train['target'][i] == 'malformed':\n",
    "        malformed.append(i)\n",
    "        \n",
    "    if train['target'][i] == 'slowite':\n",
    "        slowite.append(i)\n",
    "\n",
    "# exclusao das linhas/tráfego de não negação\n",
    "train = train.drop(malformed)\n",
    "train = train.drop(slowite)\n",
    "train = train.drop(bruteforce)\n",
    "\n",
    "# -------------------------------------------------------------------------\n",
    "\n",
    "# conj de teste\n",
    "\n",
    "bruteforce = []\n",
    "malformed = []\n",
    "slowite = []\n",
    "\n",
    "for i in test.index:\n",
    "\n",
    "    if test['target'][i] == 'bruteforce':\n",
    "        bruteforce.append(i)\n",
    "        \n",
    "    if test['target'][i] == 'malformed':\n",
    "        malformed.append(i)\n",
    "        \n",
    "    if test['target'][i] == 'slowite':\n",
    "        slowite.append(i)\n",
    "        \n",
    "test = test.drop(bruteforce)\n",
    "test = test.drop(malformed)\n",
    "test = test.drop(slowite)\n",
    "\n",
    "# -----------------------------------------------------------------------------------\n",
    "\n",
    "# novo tamanho df\n",
    "print(\"Train: \")\n",
    "print(train['target'].value_counts())\n",
    "print(\"\\n\")\n",
    "print(\"Test: \")\n",
    "print(test['target'].value_counts())"
   ]
  },
  {
   "cell_type": "code",
   "execution_count": 6,
   "metadata": {
    "execution": {
     "iopub.execute_input": "2024-11-04T19:15:22.009802Z",
     "iopub.status.busy": "2024-11-04T19:15:22.009256Z",
     "iopub.status.idle": "2024-11-04T19:23:16.763755Z",
     "shell.execute_reply": "2024-11-04T19:23:16.762157Z",
     "shell.execute_reply.started": "2024-11-04T19:15:22.009749Z"
    },
    "trusted": true
   },
   "outputs": [
    {
     "name": "stdout",
     "output_type": "stream",
     "text": [
      "target\n",
      "legitimate    7000000\n",
      "malicioso     2800000\n",
      "Name: count, dtype: int64\n",
      "target\n",
      "legitimate    3000000\n",
      "malicioso     1200000\n",
      "Name: count, dtype: int64\n"
     ]
    }
   ],
   "source": [
    "# lógica para deixar df com duas classes \n",
    "# legitimo e malicioso\n",
    "\n",
    "for i in train.index:\n",
    "    if train['target'][i] != 'legitimate':\n",
    "        train.at[i, 'target'] = 'malicioso'\n",
    "         \n",
    "for i in test.index:\n",
    "    if test['target'][i] != 'legitimate':\n",
    "        test.at[i, 'target'] = 'malicioso'\n",
    "        \n",
    "# novo dataframe\n",
    "print(train['target'].value_counts())\n",
    "print(test['target'].value_counts())"
   ]
  },
  {
   "cell_type": "code",
   "execution_count": 7,
   "metadata": {
    "execution": {
     "iopub.execute_input": "2024-11-04T19:55:19.651636Z",
     "iopub.status.busy": "2024-11-04T19:55:19.649916Z",
     "iopub.status.idle": "2024-11-04T19:59:25.390730Z",
     "shell.execute_reply": "2024-11-04T19:59:25.388524Z",
     "shell.execute_reply.started": "2024-11-04T19:55:19.651556Z"
    },
    "trusted": true
   },
   "outputs": [
    {
     "name": "stdout",
     "output_type": "stream",
     "text": [
      "target\n",
      "malicioso     2800000\n",
      "legitimate    2800000\n",
      "Name: count, dtype: int64\n",
      "target\n",
      "malicioso     1200000\n",
      "legitimate    1200000\n",
      "Name: count, dtype: int64\n"
     ]
    }
   ],
   "source": [
    "# lógica de balanceamento \n",
    "# deixa a qtdade igual para as duas classes\n",
    "\n",
    "legitimate_train = []\n",
    "legitimate_test = []\n",
    "\n",
    "for i in train.index:\n",
    "    if train['target'][i] == 'legitimate':\n",
    "        legitimate_train.append(i)\n",
    "        \n",
    "for i in test.index:\n",
    "    if test['target'][i] == 'legitimate':\n",
    "        legitimate_test.append(i)\n",
    "        \n",
    "        \n",
    "# para balancear: 7.000.000 - 2.800.000 = 4.200.000 \n",
    "# isso exclui as linhas, deixando as classes com 2.800.000 linhas cada\n",
    "legitimate_train = legitimate_train[:4200000]\n",
    "train = train.drop(legitimate_train)\n",
    "\n",
    "# 3.000.000 - 1.200.000 = 1.800.000\n",
    "# cada classe com 1.800.000 linhas\n",
    "legitimate_test = legitimate_test[:1800000]\n",
    "test = test.drop(legitimate_test)\n",
    "\n",
    "# novo tamanho\n",
    "print(train['target'].value_counts())\n",
    "print(test['target'].value_counts())"
   ]
  },
  {
   "cell_type": "code",
   "execution_count": 8,
   "metadata": {
    "execution": {
     "iopub.execute_input": "2024-11-04T20:18:02.103534Z",
     "iopub.status.busy": "2024-11-04T20:18:02.102667Z",
     "iopub.status.idle": "2024-11-04T20:18:10.467608Z",
     "shell.execute_reply": "2024-11-04T20:18:10.465208Z",
     "shell.execute_reply.started": "2024-11-04T20:18:02.103446Z"
    },
    "trusted": true
   },
   "outputs": [],
   "source": [
    "# para carregar os dados sem precisar processar novamente\n",
    "train.to_pickle(\"train_processed.pkl\")\n",
    "test.to_pickle(\"test_processed.pkl\")"
   ]
  }
 ],
 "metadata": {
  "kaggle": {
   "accelerator": "none",
   "dataSources": [
    {
     "datasetId": 5130948,
     "sourceId": 8579721,
     "sourceType": "datasetVersion"
    }
   ],
   "dockerImageVersionId": 30786,
   "isGpuEnabled": false,
   "isInternetEnabled": true,
   "language": "python",
   "sourceType": "notebook"
  },
  "kernelspec": {
   "display_name": "Python 3",
   "language": "python",
   "name": "python3"
  },
  "language_info": {
   "codemirror_mode": {
    "name": "ipython",
    "version": 3
   },
   "file_extension": ".py",
   "mimetype": "text/x-python",
   "name": "python",
   "nbconvert_exporter": "python",
   "pygments_lexer": "ipython3",
   "version": "3.10.14"
  }
 },
 "nbformat": 4,
 "nbformat_minor": 4
}
